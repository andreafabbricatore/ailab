{
 "cells": [
  {
   "cell_type": "code",
   "execution_count": 1,
   "metadata": {},
   "outputs": [],
   "source": [
    "import pandas as pd\n",
    "import numpy as np"
   ]
  },
  {
   "attachments": {},
   "cell_type": "markdown",
   "metadata": {},
   "source": [
    "# SMARTS HCC1806"
   ]
  },
  {
   "cell_type": "code",
   "execution_count": 90,
   "metadata": {},
   "outputs": [],
   "source": [
    "#reading files\n",
    "smarts_metadata_hcc = pd.read_table(\"data/HCC1806_SmartS_MetaData.tsv\")\n",
    "smarts_unfiltered_hcc = pd.read_csv(\"data/HCC1806_SmartS_Unfiltered_Data.txt\", sep= \" \")"
   ]
  },
  {
   "cell_type": "code",
   "execution_count": 91,
   "metadata": {},
   "outputs": [
    {
     "name": "stdout",
     "output_type": "stream",
     "text": [
      "True\n"
     ]
    }
   ],
   "source": [
    "#building new df\n",
    "target_col = smarts_metadata_hcc['Condition']\n",
    "\n",
    "hcc_smarts_df = smarts_unfiltered_hcc.T\n",
    "\n",
    "#checking that rows and columns are aligned\n",
    "for i,j in enumerate(smarts_metadata_hcc[\"Filename\"]):\n",
    "    if smarts_unfiltered_hcc.columns[i] != j:\n",
    "        print(\"False\")\n",
    "        break\n",
    "print(True)\n",
    "\n",
    "hcc_smarts_df = smarts_unfiltered_hcc.T.reset_index(drop=True)\n",
    "hcc_smarts_df[\"Target\"] = target_col\n",
    "\n",
    "#chaging target to categorical variable\n",
    "hcc_smarts_df[\"Target\"] = hcc_smarts_df[\"Target\"].apply(lambda x: 0 if x == \"Hypo\" else 1)\n",
    "hcc_smarts_df.to_csv(\"cleaned_data/hcc_smarts_df.csv\")\n"
   ]
  },
  {
   "attachments": {},
   "cell_type": "markdown",
   "metadata": {},
   "source": [
    "# SMARTS MCF7"
   ]
  },
  {
   "cell_type": "code",
   "execution_count": 88,
   "metadata": {},
   "outputs": [],
   "source": [
    "#reading files\n",
    "smarts_metadata_mcf = pd.read_table(\"data/MCF7_SmartS_MetaData.tsv\")\n",
    "smarts_unfiltered_mcf = pd.read_csv(\"data/MCF7_SmartS_Unfiltered_Data.txt\", sep= \" \")"
   ]
  },
  {
   "cell_type": "code",
   "execution_count": 89,
   "metadata": {},
   "outputs": [
    {
     "name": "stdout",
     "output_type": "stream",
     "text": [
      "True\n"
     ]
    }
   ],
   "source": [
    "#building new df\n",
    "target_col = smarts_metadata_mcf['Condition']\n",
    "\n",
    "mcf_smarts_df = smarts_unfiltered_mcf.T\n",
    "\n",
    "#checking that rows and columns are aligned\n",
    "for i,j in enumerate(smarts_metadata_mcf[\"Filename\"]):\n",
    "    if smarts_unfiltered_mcf.columns[i] != j:\n",
    "        print(\"False\")\n",
    "        break\n",
    "print(True)\n",
    "\n",
    "mcf_smarts_df = smarts_unfiltered_mcf.T.reset_index(drop=True)\n",
    "mcf_smarts_df[\"Target\"] = target_col\n",
    "\n",
    "#chaging target to categorical variable\n",
    "mcf_smarts_df[\"Target\"] = mcf_smarts_df[\"Target\"].apply(lambda x: 0 if x == \"Hypo\" else 1)\n",
    "mcf_smarts_df.to_csv(\"cleaned_data/mcf_smarts_df.csv\")"
   ]
  }
 ],
 "metadata": {
  "kernelspec": {
   "display_name": "Python 3",
   "language": "python",
   "name": "python3"
  },
  "language_info": {
   "codemirror_mode": {
    "name": "ipython",
    "version": 3
   },
   "file_extension": ".py",
   "mimetype": "text/x-python",
   "name": "python",
   "nbconvert_exporter": "python",
   "pygments_lexer": "ipython3",
   "version": "3.10.0"
  },
  "orig_nbformat": 4
 },
 "nbformat": 4,
 "nbformat_minor": 2
}
