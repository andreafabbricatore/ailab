{
 "cells": [
  {
   "cell_type": "code",
   "execution_count": 1,
   "metadata": {},
   "outputs": [],
   "source": [
    "import os\n",
    "os.chdir(\"..\\..\")"
   ]
  },
  {
   "cell_type": "code",
   "execution_count": 2,
   "metadata": {},
   "outputs": [],
   "source": [
    "import pandas as pd\n",
    "import numpy as np\n",
    "import seaborn as sns\n",
    "import matplotlib.pyplot as plt\n",
    "from sklearn.neighbors import KNeighborsClassifier\n",
    "from sklearn.svm import LinearSVC, SVC\n",
    "from sklearn.model_selection import train_test_split\n",
    "from sklearn.metrics import accuracy_score\n",
    "from sklearn.model_selection import cross_val_score\n",
    "from sklearn.metrics import confusion_matrix, ConfusionMatrixDisplay\n",
    "from fix_data import add_label_T\n",
    "from sklearn.preprocessing import StandardScaler\n",
    "from sklearn.decomposition import PCA\n",
    "from sklearn.model_selection import GridSearchCV\n",
    "from sklearn.model_selection import RandomizedSearchCV\n",
    "import warnings\n",
    "from sklearn.exceptions import ConvergenceWarning\n",
    "\n",
    "warnings.filterwarnings(\"ignore\", category=ConvergenceWarning)"
   ]
  },
  {
   "cell_type": "code",
   "execution_count": 3,
   "metadata": {},
   "outputs": [],
   "source": [
    "hcc_smarts_df_train = pd.read_csv(\"data/DropSeq/HCC1806_Filtered_Normalised_3000_Data_train.txt\", sep = \" \")\n",
    "mcf_smarts_df_train = pd.read_csv(\"data/DropSeq/MCF7_Filtered_Normalised_3000_Data_train.txt\", sep= \" \")\n",
    "\n",
    "hcc_smarts_df_train = add_label_T(hcc_smarts_df_train)\n",
    "mcf_smarts_df_train = add_label_T(mcf_smarts_df_train)\n",
    "\n",
    "X1 = hcc_smarts_df_train.loc[:,hcc_smarts_df_train.columns!='label']\n",
    "X2 = mcf_smarts_df_train.loc[:,mcf_smarts_df_train.columns!='label']\n",
    "y = hcc_smarts_df_train[\"label\"]"
   ]
  },
  {
   "attachments": {},
   "cell_type": "markdown",
   "metadata": {},
   "source": [
    "# Non linear svm"
   ]
  },
  {
   "cell_type": "code",
   "execution_count": 4,
   "metadata": {},
   "outputs": [
    {
     "name": "stdout",
     "output_type": "stream",
     "text": [
      "Final accuracy = 95.8928%\n",
      "[0.97345133 0.96528251 0.94414169 0.95708447 0.94618529 0.95027248\n",
      " 0.95640327 0.95980926 0.96253406 0.97411444]\n"
     ]
    }
   ],
   "source": [
    "nlsvm = SVC()\n",
    "cross = cross_val_score(nlsvm, X1, y, scoring=\"accuracy\", cv=10)\n",
    "print(f\"Final accuracy = {round((sum(cross) / 10) * 100, 4)}%\")\n",
    "print(cross)"
   ]
  },
  {
   "cell_type": "code",
   "execution_count": 6,
   "metadata": {},
   "outputs": [],
   "source": [
    "x_train, x_test, y_train, y_test = train_test_split(X1, y, test_size=0.5)"
   ]
  },
  {
   "cell_type": "code",
   "execution_count": 7,
   "metadata": {},
   "outputs": [
    {
     "name": "stdout",
     "output_type": "stream",
     "text": [
      "Fitting 2 folds for each of 15 candidates, totalling 30 fits\n"
     ]
    },
    {
     "data": {
      "text/plain": [
       "{'C': 10, 'kernel': 'rbf'}"
      ]
     },
     "execution_count": 7,
     "metadata": {},
     "output_type": "execute_result"
    }
   ],
   "source": [
    "svm = SVC()\n",
    "p_grid = {'kernel': ['poly', 'rbf', 'sigmoid'],\n",
    "          \"C\": [0.001, 0.1 , 1, 10, 100],\n",
    "            }\n",
    "\n",
    "gsin = GridSearchCV(svm, param_grid = p_grid, cv=2, scoring= 'accuracy', verbose= True ).fit(x_train, y_train)\n",
    "gsin.best_params_"
   ]
  },
  {
   "cell_type": "code",
   "execution_count": 8,
   "metadata": {},
   "outputs": [
    {
     "data": {
      "text/html": [
       "<div>\n",
       "<style scoped>\n",
       "    .dataframe tbody tr th:only-of-type {\n",
       "        vertical-align: middle;\n",
       "    }\n",
       "\n",
       "    .dataframe tbody tr th {\n",
       "        vertical-align: top;\n",
       "    }\n",
       "\n",
       "    .dataframe thead th {\n",
       "        text-align: right;\n",
       "    }\n",
       "</style>\n",
       "<table border=\"1\" class=\"dataframe\">\n",
       "  <thead>\n",
       "    <tr style=\"text-align: right;\">\n",
       "      <th></th>\n",
       "      <th>param_C</th>\n",
       "      <th>param_kernel</th>\n",
       "      <th>mean_test_score</th>\n",
       "      <th>rank_test_score</th>\n",
       "    </tr>\n",
       "  </thead>\n",
       "  <tbody>\n",
       "    <tr>\n",
       "      <th>0</th>\n",
       "      <td>10</td>\n",
       "      <td>rbf</td>\n",
       "      <td>0.950824</td>\n",
       "      <td>1</td>\n",
       "    </tr>\n",
       "    <tr>\n",
       "      <th>1</th>\n",
       "      <td>100</td>\n",
       "      <td>rbf</td>\n",
       "      <td>0.950824</td>\n",
       "      <td>1</td>\n",
       "    </tr>\n",
       "    <tr>\n",
       "      <th>2</th>\n",
       "      <td>1</td>\n",
       "      <td>rbf</td>\n",
       "      <td>0.947964</td>\n",
       "      <td>3</td>\n",
       "    </tr>\n",
       "    <tr>\n",
       "      <th>3</th>\n",
       "      <td>10</td>\n",
       "      <td>poly</td>\n",
       "      <td>0.942242</td>\n",
       "      <td>4</td>\n",
       "    </tr>\n",
       "    <tr>\n",
       "      <th>4</th>\n",
       "      <td>100</td>\n",
       "      <td>poly</td>\n",
       "      <td>0.940199</td>\n",
       "      <td>5</td>\n",
       "    </tr>\n",
       "    <tr>\n",
       "      <th>5</th>\n",
       "      <td>0.1</td>\n",
       "      <td>rbf</td>\n",
       "      <td>0.909822</td>\n",
       "      <td>6</td>\n",
       "    </tr>\n",
       "    <tr>\n",
       "      <th>6</th>\n",
       "      <td>1</td>\n",
       "      <td>poly</td>\n",
       "      <td>0.898652</td>\n",
       "      <td>7</td>\n",
       "    </tr>\n",
       "    <tr>\n",
       "      <th>7</th>\n",
       "      <td>0.1</td>\n",
       "      <td>sigmoid</td>\n",
       "      <td>0.876583</td>\n",
       "      <td>8</td>\n",
       "    </tr>\n",
       "    <tr>\n",
       "      <th>8</th>\n",
       "      <td>1</td>\n",
       "      <td>sigmoid</td>\n",
       "      <td>0.815013</td>\n",
       "      <td>9</td>\n",
       "    </tr>\n",
       "    <tr>\n",
       "      <th>9</th>\n",
       "      <td>10</td>\n",
       "      <td>sigmoid</td>\n",
       "      <td>0.786270</td>\n",
       "      <td>10</td>\n",
       "    </tr>\n",
       "    <tr>\n",
       "      <th>10</th>\n",
       "      <td>0.1</td>\n",
       "      <td>poly</td>\n",
       "      <td>0.785452</td>\n",
       "      <td>11</td>\n",
       "    </tr>\n",
       "    <tr>\n",
       "      <th>11</th>\n",
       "      <td>100</td>\n",
       "      <td>sigmoid</td>\n",
       "      <td>0.781366</td>\n",
       "      <td>12</td>\n",
       "    </tr>\n",
       "    <tr>\n",
       "      <th>12</th>\n",
       "      <td>0.001</td>\n",
       "      <td>poly</td>\n",
       "      <td>0.611361</td>\n",
       "      <td>13</td>\n",
       "    </tr>\n",
       "    <tr>\n",
       "      <th>13</th>\n",
       "      <td>0.001</td>\n",
       "      <td>rbf</td>\n",
       "      <td>0.611088</td>\n",
       "      <td>14</td>\n",
       "    </tr>\n",
       "    <tr>\n",
       "      <th>14</th>\n",
       "      <td>0.001</td>\n",
       "      <td>sigmoid</td>\n",
       "      <td>0.611088</td>\n",
       "      <td>14</td>\n",
       "    </tr>\n",
       "  </tbody>\n",
       "</table>\n",
       "</div>"
      ],
      "text/plain": [
       "   param_C param_kernel  mean_test_score  rank_test_score\n",
       "0       10          rbf         0.950824                1\n",
       "1      100          rbf         0.950824                1\n",
       "2        1          rbf         0.947964                3\n",
       "3       10         poly         0.942242                4\n",
       "4      100         poly         0.940199                5\n",
       "5      0.1          rbf         0.909822                6\n",
       "6        1         poly         0.898652                7\n",
       "7      0.1      sigmoid         0.876583                8\n",
       "8        1      sigmoid         0.815013                9\n",
       "9       10      sigmoid         0.786270               10\n",
       "10     0.1         poly         0.785452               11\n",
       "11     100      sigmoid         0.781366               12\n",
       "12   0.001         poly         0.611361               13\n",
       "13   0.001          rbf         0.611088               14\n",
       "14   0.001      sigmoid         0.611088               14"
      ]
     },
     "execution_count": 8,
     "metadata": {},
     "output_type": "execute_result"
    }
   ],
   "source": [
    "svm_res_n = pd.DataFrame(gsin.cv_results_)[[\"param_C\", \"param_kernel\", \"mean_test_score\", \"rank_test_score\"]]\n",
    "svm_res_n.sort_values(by=\"mean_test_score\", ascending=False, inplace=True)\n",
    "svm_res_n.reset_index(drop= True, inplace=True)\n",
    "svm_res_n.iloc[:20,:]"
   ]
  },
  {
   "cell_type": "code",
   "execution_count": 9,
   "metadata": {},
   "outputs": [
    {
     "data": {
      "text/plain": [
       "{'0.001': 0.6113608242525368,\n",
       " '0.1': 0.9098218454237017,\n",
       " '1': 0.9479636773087837,\n",
       " '10': 0.9508244900564629,\n",
       " '100': 0.9508244900564629}"
      ]
     },
     "execution_count": 9,
     "metadata": {},
     "output_type": "execute_result"
    }
   ],
   "source": [
    "best_fit = {}\n",
    "for i in [0.001, 0.1 , 1, 10, 100]:\n",
    "    best_fit[f\"{i}\"] = max([svm_res_n.iloc[j,:].values for j in range(svm_res_n.shape[0]) if svm_res_n.iloc[j,0] == i], key= lambda x: x[2])[2]\n",
    "\n",
    "best_fit"
   ]
  },
  {
   "cell_type": "code",
   "execution_count": 10,
   "metadata": {},
   "outputs": [
    {
     "data": {
      "image/png": "[encoded data removed]",
      "text/plain": [
       "<Figure size 1440x576 with 1 Axes>"
      ]
     },
     "metadata": {
      "needs_background": "light"
     },
     "output_type": "display_data"
    }
   ],
   "source": [
    "svm_res_n.sort_values(by=\"param_C\", ascending=True, inplace=True)\n",
    "\n",
    "fig, ax = plt.subplots(figsize=(20,8))\n",
    "\n",
    "best = max(best_fit.values())\n",
    "\n",
    "ax.bar([i for i in range(0,10,2)], [i for k,i in  enumerate(svm_res_n.loc[:,\"mean_test_score\"]) if svm_res_n.iloc[k, 1] == \"rbf\"], width= 0.25, color= \"steelblue\")\n",
    "ax.bar([i + 0.25 for i in range(0,10,2)], [i for k,i in  enumerate(svm_res_n.loc[:,\"mean_test_score\"]) if svm_res_n.iloc[k, 1] == \"poly\"], width= 0.25, color= \"black\")\n",
    "ax.bar([i + 0.25 + 0.25 for i in range(0,10,2)], [i for k,i in  enumerate(svm_res_n.loc[:,\"mean_test_score\"]) if svm_res_n.iloc[k, 1] == \"sigmoid\"], width= 0.25, color= \"darkgreen\")\n",
    "ax.axhline(y=best, color='green', linestyle='--')\n",
    "\n",
    "ax.set_xticks([i + 0.385 for i in range(0,10,2)], [0.001, 0.1 , 1, 10, 100])\n",
    "\n",
    "ax.grid(axis= 'y', which= 'major', alpha=0.5)\n",
    "\n",
    "colors = {\"rbf\": \"steelblue\", \"poly\": \"black\", \"sigmoid\": \"darkgreen\"}\n",
    "label = list(colors.keys())\n",
    "handle = [plt.Rectangle((0,0),2,2, color=colors[lab]) for lab in label]\n",
    "\n",
    "ax.legend(handles= handle, labels= label, loc = \"lower left\")\n",
    "plt.show() "
   ]
  },
  {
   "cell_type": "code",
   "execution_count": 11,
   "metadata": {},
   "outputs": [
    {
     "name": "stdout",
     "output_type": "stream",
     "text": [
      "Fitting 2 folds for each of 9 candidates, totalling 18 fits\n"
     ]
    },
    {
     "data": {
      "text/plain": [
       "{'C': 100, 'degree': 2, 'kernel': 'poly'}"
      ]
     },
     "execution_count": 11,
     "metadata": {},
     "output_type": "execute_result"
    }
   ],
   "source": [
    "svm = SVC()\n",
    "p_grid = {'kernel': ['poly'],\n",
    "          \"C\": [1, 10, 100],\n",
    "          \"degree\": [2, 4, 5]\n",
    "            }\n",
    "\n",
    "gsin = GridSearchCV(svm, param_grid = p_grid, cv=2, scoring= 'accuracy', verbose= True ).fit(x_train, y_train)\n",
    "gsin.best_params_"
   ]
  },
  {
   "cell_type": "code",
   "execution_count": 12,
   "metadata": {},
   "outputs": [
    {
     "data": {
      "text/html": [
       "<div>\n",
       "<style scoped>\n",
       "    .dataframe tbody tr th:only-of-type {\n",
       "        vertical-align: middle;\n",
       "    }\n",
       "\n",
       "    .dataframe tbody tr th {\n",
       "        vertical-align: top;\n",
       "    }\n",
       "\n",
       "    .dataframe thead th {\n",
       "        text-align: right;\n",
       "    }\n",
       "</style>\n",
       "<table border=\"1\" class=\"dataframe\">\n",
       "  <thead>\n",
       "    <tr style=\"text-align: right;\">\n",
       "      <th></th>\n",
       "      <th>param_C</th>\n",
       "      <th>param_degree</th>\n",
       "      <th>mean_test_score</th>\n",
       "      <th>rank_test_score</th>\n",
       "    </tr>\n",
       "  </thead>\n",
       "  <tbody>\n",
       "    <tr>\n",
       "      <th>0</th>\n",
       "      <td>100</td>\n",
       "      <td>2</td>\n",
       "      <td>0.947146</td>\n",
       "      <td>1</td>\n",
       "    </tr>\n",
       "    <tr>\n",
       "      <th>1</th>\n",
       "      <td>10</td>\n",
       "      <td>2</td>\n",
       "      <td>0.946738</td>\n",
       "      <td>2</td>\n",
       "    </tr>\n",
       "    <tr>\n",
       "      <th>2</th>\n",
       "      <td>1</td>\n",
       "      <td>2</td>\n",
       "      <td>0.940199</td>\n",
       "      <td>3</td>\n",
       "    </tr>\n",
       "    <tr>\n",
       "      <th>3</th>\n",
       "      <td>10</td>\n",
       "      <td>4</td>\n",
       "      <td>0.921129</td>\n",
       "      <td>4</td>\n",
       "    </tr>\n",
       "    <tr>\n",
       "      <th>4</th>\n",
       "      <td>100</td>\n",
       "      <td>4</td>\n",
       "      <td>0.916904</td>\n",
       "      <td>5</td>\n",
       "    </tr>\n",
       "    <tr>\n",
       "      <th>5</th>\n",
       "      <td>10</td>\n",
       "      <td>5</td>\n",
       "      <td>0.877811</td>\n",
       "      <td>6</td>\n",
       "    </tr>\n",
       "    <tr>\n",
       "      <th>6</th>\n",
       "      <td>100</td>\n",
       "      <td>5</td>\n",
       "      <td>0.874127</td>\n",
       "      <td>7</td>\n",
       "    </tr>\n",
       "    <tr>\n",
       "      <th>7</th>\n",
       "      <td>1</td>\n",
       "      <td>4</td>\n",
       "      <td>0.842392</td>\n",
       "      <td>8</td>\n",
       "    </tr>\n",
       "    <tr>\n",
       "      <th>8</th>\n",
       "      <td>1</td>\n",
       "      <td>5</td>\n",
       "      <td>0.795532</td>\n",
       "      <td>9</td>\n",
       "    </tr>\n",
       "  </tbody>\n",
       "</table>\n",
       "</div>"
      ],
      "text/plain": [
       "  param_C param_degree  mean_test_score  rank_test_score\n",
       "0     100            2         0.947146                1\n",
       "1      10            2         0.946738                2\n",
       "2       1            2         0.940199                3\n",
       "3      10            4         0.921129                4\n",
       "4     100            4         0.916904                5\n",
       "5      10            5         0.877811                6\n",
       "6     100            5         0.874127                7\n",
       "7       1            4         0.842392                8\n",
       "8       1            5         0.795532                9"
      ]
     },
     "execution_count": 12,
     "metadata": {},
     "output_type": "execute_result"
    }
   ],
   "source": [
    "svm_res_np = pd.DataFrame(gsin.cv_results_)[[\"param_C\", \"param_degree\", \"mean_test_score\", \"rank_test_score\"]]\n",
    "svm_res_np.sort_values(by=\"mean_test_score\", ascending=False, inplace=True)\n",
    "svm_res_np.reset_index(drop= True, inplace=True)\n",
    "svm_res_np.iloc[:20,:]"
   ]
  },
  {
   "cell_type": "code",
   "execution_count": 13,
   "metadata": {},
   "outputs": [
    {
     "data": {
      "image/png": "[encoded data removed]",
      "text/plain": [
       "<Figure size 1440x576 with 1 Axes>"
      ]
     },
     "metadata": {
      "needs_background": "light"
     },
     "output_type": "display_data"
    }
   ],
   "source": [
    "svm_res_np.sort_values(by=\"param_C\", ascending=True, inplace=True)\n",
    "\n",
    "fig, ax = plt.subplots(figsize=(20,8))\n",
    "\n",
    "# best = max(best_fit.values())\n",
    "\n",
    "ax.bar([i for i in range(0,6,2)], [i for k,i in  enumerate(svm_res_np.loc[:,\"mean_test_score\"]) if svm_res_np.iloc[k, 1] == 2], width= 0.25, color= \"steelblue\")\n",
    "ax.bar([i + 0.25 for i in range(0,6,2)], [i for k,i in  enumerate(svm_res_np.loc[:,\"mean_test_score\"]) if svm_res_np.iloc[k, 1] == 4], width= 0.25, color= \"black\")\n",
    "ax.bar([i + 0.25 + 0.25 for i in range(0,6,2)], [i for k,i in  enumerate(svm_res_np.loc[:,\"mean_test_score\"]) if svm_res_np.iloc[k, 1] == 5], width= 0.25, color= \"darkgreen\")\n",
    "# ax.axhline(y=best, color='green', linestyle='--')\n",
    "\n",
    "ax.set_xticks([i + 0.385 for i in range(0,6,2)], [1, 10, 100])\n",
    "\n",
    "ax.grid(axis= 'y', which= 'major', alpha=0.5)\n",
    "\n",
    "colors = {\"2\": \"steelblue\", \"4\": \"black\", \"5\": \"darkgreen\"}\n",
    "label = list(colors.keys())\n",
    "handle = [plt.Rectangle((0,0),2,2, color=colors[lab]) for lab in label]\n",
    "\n",
    "ax.legend(handles= handle, labels= label, loc = \"lower left\")\n",
    "plt.show() "
   ]
  },
  {
   "cell_type": "code",
   "execution_count": 14,
   "metadata": {},
   "outputs": [
    {
     "data": {
      "text/plain": [
       "{'1': 0.9401987890951764, '10': 0.9467375563830807, '100': 0.9471462386166856}"
      ]
     },
     "execution_count": 14,
     "metadata": {},
     "output_type": "execute_result"
    }
   ],
   "source": [
    "best_fit_d = {}\n",
    "for i in [1, 10, 100]:\n",
    "    best_fit_d[f\"{i}\"] = max([svm_res_np.iloc[j,:].values for j in range(svm_res_np.shape[0]) if svm_res_np.iloc[j,0] == i], key= lambda x: x[2])[2]\n",
    "\n",
    "best_fit_d"
   ]
  },
  {
   "cell_type": "code",
   "execution_count": 15,
   "metadata": {},
   "outputs": [],
   "source": [
    "best_fit = [0.9479636773087837, 0.9508244900564629, 0.9508244900564629]"
   ]
  },
  {
   "cell_type": "code",
   "execution_count": 16,
   "metadata": {},
   "outputs": [
    {
     "data": {
      "image/png": "[encoded data removed]",
      "text/plain": [
       "<Figure size 1152x576 with 1 Axes>"
      ]
     },
     "metadata": {
      "needs_background": "light"
     },
     "output_type": "display_data"
    }
   ],
   "source": [
    "fig, ax = plt.subplots(figsize=(16,8))\n",
    "\n",
    "ax.bar([i for i in range(3)], best_fit, 0.25, color = \"black\")\n",
    "ax.bar([i + 0.25 for i in range(3)], list(best_fit_d.values()), 0.25, color = \"darkgreen\")\n",
    "\n",
    "best = max([*[i for i in best_fit], *[i for i in best_fit_d.values()]])\n",
    "\n",
    "ax.set_xticks([i + 0.125 for i in range(3)], [1, 10, 100])\n",
    "ax.grid(axis= 'y', which= 'major', alpha=0.5)\n",
    "ax.axhline(y=best, color='green', linestyle='--')\n",
    "\n",
    "colors = {\"rbf\": \"black\", \"poly\": \"darkgreen\"}\n",
    "label = list(colors.keys())\n",
    "handle = [plt.Rectangle((0,0),2,2, color=colors[lab]) for lab in label]\n",
    "\n",
    "ax.legend(handles= handle, labels= label, loc = \"lower left\")\n",
    "plt.show() "
   ]
  },
  {
   "cell_type": "code",
   "execution_count": 17,
   "metadata": {},
   "outputs": [
    {
     "name": "stdout",
     "output_type": "stream",
     "text": [
      "Fitting 2 folds for each of 12 candidates, totalling 24 fits\n"
     ]
    },
    {
     "data": {
      "text/plain": [
       "{'C': 10, 'degree': 2, 'gamma': 'scale', 'kernel': 'rbf'}"
      ]
     },
     "execution_count": 17,
     "metadata": {},
     "output_type": "execute_result"
    }
   ],
   "source": [
    "svm = SVC()\n",
    "p_grid = {'kernel': ['poly', 'rbf'],\n",
    "          \"degree\": [2],\n",
    "          \"C\": [1, 10, 100],\n",
    "          \"gamma\": [\"scale\", \"auto\"]\n",
    "            }\n",
    "\n",
    "gsin = GridSearchCV(svm, param_grid = p_grid, cv=2, scoring= 'accuracy', verbose= True ).fit(x_train, y_train)\n",
    "gsin.best_params_"
   ]
  },
  {
   "cell_type": "code",
   "execution_count": 18,
   "metadata": {},
   "outputs": [
    {
     "data": {
      "text/html": [
       "<div>\n",
       "<style scoped>\n",
       "    .dataframe tbody tr th:only-of-type {\n",
       "        vertical-align: middle;\n",
       "    }\n",
       "\n",
       "    .dataframe tbody tr th {\n",
       "        vertical-align: top;\n",
       "    }\n",
       "\n",
       "    .dataframe thead th {\n",
       "        text-align: right;\n",
       "    }\n",
       "</style>\n",
       "<table border=\"1\" class=\"dataframe\">\n",
       "  <thead>\n",
       "    <tr style=\"text-align: right;\">\n",
       "      <th></th>\n",
       "      <th>param_kernel</th>\n",
       "      <th>param_C</th>\n",
       "      <th>param_gamma</th>\n",
       "      <th>mean_test_score</th>\n",
       "      <th>rank_test_score</th>\n",
       "    </tr>\n",
       "  </thead>\n",
       "  <tbody>\n",
       "    <tr>\n",
       "      <th>0</th>\n",
       "      <td>rbf</td>\n",
       "      <td>10</td>\n",
       "      <td>scale</td>\n",
       "      <td>0.950824</td>\n",
       "      <td>1</td>\n",
       "    </tr>\n",
       "    <tr>\n",
       "      <th>1</th>\n",
       "      <td>rbf</td>\n",
       "      <td>100</td>\n",
       "      <td>scale</td>\n",
       "      <td>0.950824</td>\n",
       "      <td>1</td>\n",
       "    </tr>\n",
       "    <tr>\n",
       "      <th>2</th>\n",
       "      <td>rbf</td>\n",
       "      <td>10</td>\n",
       "      <td>auto</td>\n",
       "      <td>0.950415</td>\n",
       "      <td>3</td>\n",
       "    </tr>\n",
       "    <tr>\n",
       "      <th>3</th>\n",
       "      <td>rbf</td>\n",
       "      <td>1</td>\n",
       "      <td>scale</td>\n",
       "      <td>0.947964</td>\n",
       "      <td>4</td>\n",
       "    </tr>\n",
       "    <tr>\n",
       "      <th>4</th>\n",
       "      <td>rbf</td>\n",
       "      <td>100</td>\n",
       "      <td>auto</td>\n",
       "      <td>0.947964</td>\n",
       "      <td>4</td>\n",
       "    </tr>\n",
       "    <tr>\n",
       "      <th>5</th>\n",
       "      <td>poly</td>\n",
       "      <td>100</td>\n",
       "      <td>scale</td>\n",
       "      <td>0.947146</td>\n",
       "      <td>6</td>\n",
       "    </tr>\n",
       "    <tr>\n",
       "      <th>6</th>\n",
       "      <td>poly</td>\n",
       "      <td>10</td>\n",
       "      <td>scale</td>\n",
       "      <td>0.946738</td>\n",
       "      <td>7</td>\n",
       "    </tr>\n",
       "    <tr>\n",
       "      <th>7</th>\n",
       "      <td>poly</td>\n",
       "      <td>1</td>\n",
       "      <td>scale</td>\n",
       "      <td>0.940199</td>\n",
       "      <td>8</td>\n",
       "    </tr>\n",
       "    <tr>\n",
       "      <th>8</th>\n",
       "      <td>poly</td>\n",
       "      <td>100</td>\n",
       "      <td>auto</td>\n",
       "      <td>0.931753</td>\n",
       "      <td>9</td>\n",
       "    </tr>\n",
       "    <tr>\n",
       "      <th>9</th>\n",
       "      <td>rbf</td>\n",
       "      <td>1</td>\n",
       "      <td>auto</td>\n",
       "      <td>0.924125</td>\n",
       "      <td>10</td>\n",
       "    </tr>\n",
       "    <tr>\n",
       "      <th>10</th>\n",
       "      <td>poly</td>\n",
       "      <td>10</td>\n",
       "      <td>auto</td>\n",
       "      <td>0.828225</td>\n",
       "      <td>11</td>\n",
       "    </tr>\n",
       "    <tr>\n",
       "      <th>11</th>\n",
       "      <td>poly</td>\n",
       "      <td>1</td>\n",
       "      <td>auto</td>\n",
       "      <td>0.614630</td>\n",
       "      <td>12</td>\n",
       "    </tr>\n",
       "  </tbody>\n",
       "</table>\n",
       "</div>"
      ],
      "text/plain": [
       "   param_kernel param_C param_gamma  mean_test_score  rank_test_score\n",
       "0           rbf      10       scale         0.950824                1\n",
       "1           rbf     100       scale         0.950824                1\n",
       "2           rbf      10        auto         0.950415                3\n",
       "3           rbf       1       scale         0.947964                4\n",
       "4           rbf     100        auto         0.947964                4\n",
       "5          poly     100       scale         0.947146                6\n",
       "6          poly      10       scale         0.946738                7\n",
       "7          poly       1       scale         0.940199                8\n",
       "8          poly     100        auto         0.931753                9\n",
       "9           rbf       1        auto         0.924125               10\n",
       "10         poly      10        auto         0.828225               11\n",
       "11         poly       1        auto         0.614630               12"
      ]
     },
     "execution_count": 18,
     "metadata": {},
     "output_type": "execute_result"
    }
   ],
   "source": [
    "svm_res_npg = pd.DataFrame(gsin.cv_results_)[[\"param_kernel\", \"param_C\", \"param_gamma\", \"mean_test_score\", \"rank_test_score\"]]\n",
    "svm_res_npg.sort_values(by=\"mean_test_score\", ascending=False, inplace=True)\n",
    "svm_res_npg.reset_index(drop= True, inplace=True)\n",
    "svm_res_npg.iloc[:20,:]"
   ]
  },
  {
   "cell_type": "code",
   "execution_count": 27,
   "metadata": {},
   "outputs": [
    {
     "name": "stdout",
     "output_type": "stream",
     "text": [
      "Fitting 2 folds for each of 5 candidates, totalling 10 fits\n"
     ]
    },
    {
     "data": {
      "text/plain": [
       "{'C': 52500, 'gamma': 1e-07, 'kernel': 'rbf'}"
      ]
     },
     "execution_count": 27,
     "metadata": {},
     "output_type": "execute_result"
    }
   ],
   "source": [
    "svm = SVC()\n",
    "p_grid = {'kernel': ['rbf'],\n",
    "          \"C\": [55000,60000, 45000, 52500, 47500],\n",
    "          \"gamma\": [0.0000001]\n",
    "            }\n",
    "\n",
    "gsin = GridSearchCV(svm, param_grid = p_grid, cv=2, scoring= 'accuracy', verbose= True ).fit(x_train, y_train)\n",
    "gsin.best_params_"
   ]
  },
  {
   "cell_type": "code",
   "execution_count": 28,
   "metadata": {},
   "outputs": [
    {
     "data": {
      "text/html": [
       "<div>\n",
       "<style scoped>\n",
       "    .dataframe tbody tr th:only-of-type {\n",
       "        vertical-align: middle;\n",
       "    }\n",
       "\n",
       "    .dataframe tbody tr th {\n",
       "        vertical-align: top;\n",
       "    }\n",
       "\n",
       "    .dataframe thead th {\n",
       "        text-align: right;\n",
       "    }\n",
       "</style>\n",
       "<table border=\"1\" class=\"dataframe\">\n",
       "  <thead>\n",
       "    <tr style=\"text-align: right;\">\n",
       "      <th></th>\n",
       "      <th>param_kernel</th>\n",
       "      <th>param_C</th>\n",
       "      <th>param_gamma</th>\n",
       "      <th>mean_test_score</th>\n",
       "      <th>rank_test_score</th>\n",
       "    </tr>\n",
       "  </thead>\n",
       "  <tbody>\n",
       "    <tr>\n",
       "      <th>0</th>\n",
       "      <td>rbf</td>\n",
       "      <td>52500</td>\n",
       "      <td>0.0</td>\n",
       "      <td>0.947691</td>\n",
       "      <td>1</td>\n",
       "    </tr>\n",
       "    <tr>\n",
       "      <th>1</th>\n",
       "      <td>rbf</td>\n",
       "      <td>55000</td>\n",
       "      <td>0.0</td>\n",
       "      <td>0.947010</td>\n",
       "      <td>2</td>\n",
       "    </tr>\n",
       "    <tr>\n",
       "      <th>2</th>\n",
       "      <td>rbf</td>\n",
       "      <td>45000</td>\n",
       "      <td>0.0</td>\n",
       "      <td>0.946874</td>\n",
       "      <td>3</td>\n",
       "    </tr>\n",
       "    <tr>\n",
       "      <th>3</th>\n",
       "      <td>rbf</td>\n",
       "      <td>47500</td>\n",
       "      <td>0.0</td>\n",
       "      <td>0.946737</td>\n",
       "      <td>4</td>\n",
       "    </tr>\n",
       "    <tr>\n",
       "      <th>4</th>\n",
       "      <td>rbf</td>\n",
       "      <td>60000</td>\n",
       "      <td>0.0</td>\n",
       "      <td>0.945920</td>\n",
       "      <td>5</td>\n",
       "    </tr>\n",
       "  </tbody>\n",
       "</table>\n",
       "</div>"
      ],
      "text/plain": [
       "  param_kernel param_C param_gamma  mean_test_score  rank_test_score\n",
       "0          rbf   52500         0.0         0.947691                1\n",
       "1          rbf   55000         0.0         0.947010                2\n",
       "2          rbf   45000         0.0         0.946874                3\n",
       "3          rbf   47500         0.0         0.946737                4\n",
       "4          rbf   60000         0.0         0.945920                5"
      ]
     },
     "execution_count": 28,
     "metadata": {},
     "output_type": "execute_result"
    }
   ],
   "source": [
    "svm_res_npg = pd.DataFrame(gsin.cv_results_)[[\"param_kernel\", \"param_C\", \"param_gamma\", \"mean_test_score\", \"rank_test_score\"]]\n",
    "svm_res_npg.sort_values(by=\"mean_test_score\", ascending=False, inplace=True)\n",
    "svm_res_npg.reset_index(drop= True, inplace=True)\n",
    "svm_res_npg.iloc[:,:]"
   ]
  }
 ],
 "metadata": {
  "kernelspec": {
   "display_name": "Python 3",
   "language": "python",
   "name": "python3"
  },
  "language_info": {
   "codemirror_mode": {
    "name": "ipython",
    "version": 3
   },
   "file_extension": ".py",
   "mimetype": "text/x-python",
   "name": "python",
   "nbconvert_exporter": "python",
   "pygments_lexer": "ipython3",
   "version": "3.9.13"
  },
  "orig_nbformat": 4
 },
 "nbformat": 4,
 "nbformat_minor": 2
}
