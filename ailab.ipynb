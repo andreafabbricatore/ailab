{
 "cells": [
  {
   "attachments": {},
   "cell_type": "markdown",
   "metadata": {},
   "source": [
    "# **AI Lab - Group Project**\n",
    "### By Alessandro Pranzo, Andrea Fabbricatore, Antonio Calderoni, Benedetta Zanini, Samuele Mancini."
   ]
  },
  {
   "cell_type": "code",
   "execution_count": 3,
   "metadata": {},
   "outputs": [
    {
     "data": {
      "text/plain": [
       "(23396, 243)"
      ]
     },
     "execution_count": 3,
     "metadata": {},
     "output_type": "execute_result"
    }
   ],
   "source": [
    "# Handle data to be used\n",
    "import pandas as pd\n",
    "\n",
    "unfiltered_hcc1806 = pd.read_csv(\"data/HCC1806_SmartS_Unfiltered_Data.txt\", sep= \" \")\n",
    "\n",
    "unfiltered_hcc1806.head()\n"
   ]
  }
 ],
 "metadata": {
  "kernelspec": {
   "display_name": "base",
   "language": "python",
   "name": "python3"
  },
  "language_info": {
   "codemirror_mode": {
    "name": "ipython",
    "version": 3
   },
   "file_extension": ".py",
   "mimetype": "text/x-python",
   "name": "python",
   "nbconvert_exporter": "python",
   "pygments_lexer": "ipython3",
   "version": "3.10.9"
  },
  "orig_nbformat": 4
 },
 "nbformat": 4,
 "nbformat_minor": 2
}
