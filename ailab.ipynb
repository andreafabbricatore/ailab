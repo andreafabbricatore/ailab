{
 "cells": [
  {
   "attachments": {},
   "cell_type": "markdown",
   "metadata": {},
   "source": [
    "# **AI LAB 2023**\n",
    "### A. Calderoni, A. Fabbricatore, S. Mancini, A. Pranzo, B. Zanini"
   ]
  },
  {
   "attachments": {},
   "cell_type": "markdown",
   "metadata": {},
   "source": [
    "## Experimental Background"
   ]
  },
  {
   "attachments": {},
   "cell_type": "markdown",
   "metadata": {},
   "source": [
    "**Definitions**\n",
    "- Hypoxia: \"depleted\" oxygen levels in tissue culture flasks, i.e. about 2% oxygen\n",
    "- Normoxia: “normal” oxygen levels in tissue culture flasks, i.e. about 20–21% oxygen\n",
    "\n",
    "**Why is it important to study whether cells are hypoxia or normoxia?**\n",
    "\n",
    "\n",
    "**Data Experimental Design**\n",
    "\n",
    "**Data Structure**\n",
    "\n",
    "**Aim of our Project**\n"
   ]
  },
  {
   "attachments": {},
   "cell_type": "markdown",
   "metadata": {},
   "source": [
    "**Why cancer and genome?**\n",
    "\n",
    "Studying the correlation between cancer and human genome is a difficult thing because the gene expression of cancer cells has an high variability among people and among the cells of the single person. Moreover, there can be many mutations developing over the time. If we want to understand and cure cancer cells is crucial to study their interactions with their neighborhoods (to see how cancer cells are escaping the T-cells, for example). Because of that we can't limit ourselfs to the study of the DNA, but we need to study the RNA since it is the \"instruction list\" that guides the cell behaviour/methabolism.\n",
    "\n",
    "**Why is it important to study hypoxia?** \n",
    "\n",
    "Cancer cells are excessively grown up cells that refuse to die committing a \"controlled suicide\" (*apoptosis*) and instead continue to grow in your body. To do that they'll need more oxigen than the normal cells and in the regions with lage metastasis the blood vassels will not be able to keep up whith the cancer cells request of oxigen. The result is that cancer cells, about to die \"against their will\", will end up expressing abnormal genes (to encode a metabolic reaction to survive these extreme coditions) that eventually will lead them to become much more aggressive and difficult to treat.\n",
    "Our question now is: can we identify apoxic cells? If we could understand how they react we could better treat cancer!\n",
    "\n",
    "**How is the experiment designed?**\n",
    "\n",
    "In our experiemnt we grow some cells in two different environments, one whith normal levels of oxigen (21%) and others with reduced levels of oxigen (1%) of oxigen. We then sequenced every single cell (Single-Cell RNA sequencing using the Smart-Seq and the Drop-Seq methods). Our target is starting from data to build a good predictor that given the gene expression of a celll will tell if this last was living in an hypoxic or normal environment. Both these two sequecing techniques were applied to two different cell lines, called HCC1086 and MCF7. The first one is a type of liver cancer and the second one is breast cancer.\n",
    "\n",
    "**How are the data structured?**\n",
    "\n",
    "The data provided to us were given in the format of .csv table. Every column represents a single cell sequenced (so an observetion), identified with a precise name containig informations about which of the two treatment conditions it grew up in (hypoxia or normoxia) and in case of Smarseq also its position on the plate of colture. Every row represents a single gene (so a feature), identified with its official gene symbol. Each entry of the table represents the gene expression count in case of SmartSeq sequenced cells and the Unique Molecular Identifier count (UMI) in case of DropSeq sequenced cells.\n",
    "\n",
    "**How will we proceed with these data?**\n",
    "We will analyse all the four tables given to us using a pretty standard Differential Gene Expression study pipeline that will include the following:\n",
    "\n",
    "- Exploratory data analysis and Data cleaning\n",
    "- Quality Control and Nomralization\n",
    "- Feature selection and Higly Variable Genes study\n",
    "- Dimensionality Reduction and Clustering \n",
    "- Supervised learning: Tree based methods and Deep Neural Networks\n",
    "- BONUS: Heuristics on Enrichment Analysis and Ontology Analysis"
   ]
  },
  {
   "attachments": {},
   "cell_type": "markdown",
   "metadata": {},
   "source": [
    "## Exploratory Data Analysis and Cleaning"
   ]
  },
  {
   "attachments": {},
   "cell_type": "markdown",
   "metadata": {},
   "source": [
    "## Dimensionality Reduction"
   ]
  },
  {
   "attachments": {},
   "cell_type": "markdown",
   "metadata": {},
   "source": [
    "## Model"
   ]
  }
 ],
 "metadata": {
  "kernelspec": {
   "display_name": "base",
   "language": "python",
   "name": "python3"
  },
  "language_info": {
   "codemirror_mode": {
    "name": "ipython",
    "version": 3
   },
   "file_extension": ".py",
   "mimetype": "text/x-python",
   "name": "python",
   "nbconvert_exporter": "python",
   "pygments_lexer": "ipython3",
   "version": "3.10.0"
  },
  "orig_nbformat": 4
 },
 "nbformat": 4,
 "nbformat_minor": 2
}
