{
 "cells": [
  {
   "attachments": {},
   "cell_type": "markdown",
   "metadata": {},
   "source": [
    "# **AI LAB 2023**\n",
    "### A. Calderoni, A. Fabbricatore, S. Mancini, A. Pranzo, B. Zanini"
   ]
  },
  {
   "attachments": {},
   "cell_type": "markdown",
   "metadata": {},
   "source": [
    "## Experimental Background"
   ]
  },
  {
   "attachments": {},
   "cell_type": "markdown",
   "metadata": {},
   "source": [
    "**Definitions**\n",
    "\n",
    "- Hypoxia: \"depleted\" oxygen levels in tissue culture flasks, i.e. about 2% oxygen\n",
    "- Normoxia: “normal” oxygen levels in tissue culture flasks, i.e. about 20–21% oxygen\n",
    "\n",
    "**Why is it important to study whether cells are hypoxia or normoxia?**\n",
    "\n",
    "Cancer cells are cells which grow excessively and refuse to die, but rather keep increasing in number. Specifically, they require more oxygen than other \"normal\" cells but there are problems occuring when metastases occupy large areas as blood vessels are incapable of supplying sufficient oxygen to that area. The result is that cancer cells will adapt (become hypoxia cells) in order to survive under the harsher low oxygen conditions. Hypoxia cancer cells are much more aggressive and difficult to treat - a greater ability to distinguish them early on would allow, potentially, better treatment in response to the cancer.\n",
    "\n",
    "**Data Experimental Design**\n",
    "\n",
    "In our experiment, we grow certain cells in one environment with normal oxygen levels (21%) and other cells in an environment with lower oxygen levels (1% of oxygen). Then, using the Smart-Seq and Drop-Seq technologies for single-cell RNA sequencing, we sequenced each and every cell. Both of these sequencing approaches were used on the HCC1086 and MCF7 cell lines. Particularly they are cell lines corresponding to different breast cancers -  ASCC and adenocarcinoma1 respectively.\n",
    "\n",
    "**Data Structure**\n",
    "\n",
    "There are two main types of files: data and metadata.\n",
    "\n",
    "Data:\n",
    "The raw unfiltered data used is organised in .txt files whereby the naming conventions is the following: {cell_type}/{sequencing_technique}/{data_type}. They are made in such a way that cell names are the columns and genes are the rows with each value in the dataframe being the \"amount\" of that gene present in the cell.\n",
    "\n",
    "Metadata:\n",
    "The metadata used is organised in .tsv files whereby the naming conventions is the following: {cell_type}/{sequencing_technique}. Each row in the dataframe represents a cell and each column represents a general attribute about it - with a relevant one being our target variable \"Pos\tCondition\".\n",
    "\n",
    "**Aim of our Project**\n",
    "\n",
    "Our goal is to develop a solid predictor from data that can determine whether a cell was living in a hypoxic or normal environment based on its gene expression.\n"
   ]
  },
  {
   "attachments": {},
   "cell_type": "markdown",
   "metadata": {},
   "source": [
    "## Exploratory Data Analysis and Cleaning"
   ]
  },
  {
   "attachments": {},
   "cell_type": "markdown",
   "metadata": {},
   "source": [
    "## Dimensionality Reduction"
   ]
  },
  {
   "attachments": {},
   "cell_type": "markdown",
   "metadata": {},
   "source": [
    "## Model"
   ]
  }
 ],
 "metadata": {
  "kernelspec": {
   "display_name": "base",
   "language": "python",
   "name": "python3"
  },
  "language_info": {
   "codemirror_mode": {
    "name": "ipython",
    "version": 3
   },
   "file_extension": ".py",
   "mimetype": "text/x-python",
   "name": "python",
   "nbconvert_exporter": "python",
   "pygments_lexer": "ipython3",
   "version": "3.10.9"
  },
  "orig_nbformat": 4
 },
 "nbformat": 4,
 "nbformat_minor": 2
}
